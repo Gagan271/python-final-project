{
 "cells": [
  {
   "cell_type": "markdown",
   "id": "69123b7f",
   "metadata": {},
   "source": [
    "# name"
   ]
  },
  {
   "cell_type": "code",
   "execution_count": null,
   "id": "5b1a2438",
   "metadata": {},
   "outputs": [
    {
     "name": "stderr",
     "output_type": "stream",
     "text": [
      " * Running on http://localhost:9000/ (Press CTRL+C to quit)\n",
      "127.0.0.1 - - [28/Oct/2021 17:38:06] \"\u001b[37mGET / HTTP/1.1\u001b[0m\" 200 -\n"
     ]
    }
   ],
   "source": [
    "from flask import Flask, jsonify, request\n",
    "app = Flask(__name__)\n",
    "@app.route('/', methods = ['GET', 'POST'])\n",
    "def home():\n",
    "    if(request.method == 'GET'):\n",
    "        from flask import Flask, jsonify, request\n",
    "app = Flask(__name__)\n",
    "@app.route('/', methods = ['GET', 'POST'])\n",
    "def home():\n",
    "    if(request.method == 'GET'):\n",
    "        your_answer_is = \"hello world\"\n",
    "        return jsonify({'your_answer_is' : your_answer_is})\n",
    "@app.route('/home/<int:num>', methods = ['GET'])\n",
    "def disp(num):\n",
    "    return jsonify({'your_answer_is': num**2})\n",
    "if __name__ == '__main__':\n",
    "    from werkzeug.serving import run_simple\n",
    "    run_simple('localhost',9000,app)\n",
    "        "
   ]
  },
  {
   "cell_type": "markdown",
   "id": "5363bcdb",
   "metadata": {},
   "source": [
    "# square root"
   ]
  },
  {
   "cell_type": "code",
   "execution_count": null,
   "id": "8941890c",
   "metadata": {},
   "outputs": [
    {
     "name": "stderr",
     "output_type": "stream",
     "text": [
      " * Running on http://localhost:9001/ (Press CTRL+C to quit)\n",
      "127.0.0.1 - - [28/Oct/2021 18:13:54] \"\u001b[37mGET / HTTP/1.1\u001b[0m\" 200 -\n",
      "127.0.0.1 - - [28/Oct/2021 18:14:04] \"\u001b[37mGET /home/4 HTTP/1.1\u001b[0m\" 200 -\n"
     ]
    }
   ],
   "source": [
    "from flask import Flask, jsonify, request\n",
    "app = Flask(__name__)\n",
    "@app.route('/', methods = ['GET', 'POST'])\n",
    "def home():\n",
    "    if(request.method == 'GET'):\n",
    "        from flask import Flask, jsonify, request\n",
    "app = Flask(__name__)\n",
    "@app.route('/', methods = ['GET', 'POST'])\n",
    "def home():\n",
    "    if(request.method == 'GET'):\n",
    "        your_answer_is = \"hello world\"\n",
    "        return jsonify({'your_answer_is' : your_answer_is})\n",
    "@app.route('/home/<int:num>', methods = ['GET'])\n",
    "def disp(num):\n",
    "    return jsonify({'The square root of 4 is': num**2})\n",
    "if __name__ == '__main__':\n",
    "    from werkzeug.serving import run_simple\n",
    "    run_simple('localhost',9001,app)"
   ]
  },
  {
   "cell_type": "markdown",
   "id": "51be7e8d",
   "metadata": {},
   "source": [
    "# cube root"
   ]
  },
  {
   "cell_type": "code",
   "execution_count": null,
   "id": "f912eeff",
   "metadata": {},
   "outputs": [
    {
     "name": "stderr",
     "output_type": "stream",
     "text": [
      " * Running on http://localhost:9002/ (Press CTRL+C to quit)\n",
      "127.0.0.1 - - [28/Oct/2021 18:10:59] \"\u001b[37mGET / HTTP/1.1\u001b[0m\" 200 -\n",
      "127.0.0.1 - - [28/Oct/2021 18:11:05] \"\u001b[37mGET /home/6 HTTP/1.1\u001b[0m\" 200 -\n"
     ]
    }
   ],
   "source": [
    "from flask import Flask, jsonify, request\n",
    "app = Flask(__name__)\n",
    "@app.route('/', methods = ['GET', 'POST'])\n",
    "def home():\n",
    "    if(request.method == 'GET'):\n",
    "        from flask import Flask, jsonify, request\n",
    "app = Flask(__name__)\n",
    "@app.route('/', methods = ['GET', 'POST'])\n",
    "def home():\n",
    "    if(request.method == 'GET'):\n",
    "        your_answer_is = \"hello world\"\n",
    "        return jsonify({'your_answer_is' : your_answer_is})\n",
    "@app.route('/home/<int:num>', methods = ['GET'])\n",
    "def disp(num):\n",
    "    return jsonify({'The cube root of 6 is': num**3})\n",
    "if __name__ == '__main__':\n",
    "    from werkzeug.serving import run_simple\n",
    "    run_simple('localhost',9002,app)"
   ]
  },
  {
   "cell_type": "markdown",
   "id": "d5d5ad1e",
   "metadata": {},
   "source": [
    "# interest rate "
   ]
  },
  {
   "cell_type": "code",
   "execution_count": null,
   "id": "83673efb",
   "metadata": {},
   "outputs": [
    {
     "name": "stderr",
     "output_type": "stream",
     "text": [
      " * Running on http://localhost:9003/ (Press CTRL+C to quit)\n",
      "127.0.0.1 - - [28/Oct/2021 18:08:36] \"\u001b[37mGET / HTTP/1.1\u001b[0m\" 200 -\n",
      "127.0.0.1 - - [28/Oct/2021 18:08:44] \"\u001b[37mGET /home/25000 HTTP/1.1\u001b[0m\" 200 -\n"
     ]
    }
   ],
   "source": [
    "from flask import Flask, jsonify, request\n",
    "app = Flask(__name__)\n",
    "@app.route('/', methods = ['GET', 'POST'])\n",
    "def home():\n",
    "    if(request.method == 'GET'):\n",
    "        from flask import Flask, jsonify, request\n",
    "app = Flask(__name__)\n",
    "@app.route('/', methods = ['GET', 'POST'])\n",
    "def home():\n",
    "    if(request.method == 'GET'):\n",
    "        your_answer_is = \"hello world\"\n",
    "        return jsonify({'your_answer_is' : your_answer_is})\n",
    "@app.route('/home/<int:num>', methods = ['GET'])\n",
    "def disp(num):\n",
    "    return jsonify({'The interest rate of 25000 is': num*12/100})\n",
    "if __name__ == '__main__':\n",
    "    from werkzeug.serving import run_simple\n",
    "    run_simple('localhost',9003,app)"
   ]
  },
  {
   "cell_type": "code",
   "execution_count": null,
   "id": "57654af5",
   "metadata": {},
   "outputs": [],
   "source": []
  }
 ],
 "metadata": {
  "kernelspec": {
   "display_name": "Python 3 (ipykernel)",
   "language": "python",
   "name": "python3"
  },
  "language_info": {
   "codemirror_mode": {
    "name": "ipython",
    "version": 3
   },
   "file_extension": ".py",
   "mimetype": "text/x-python",
   "name": "python",
   "nbconvert_exporter": "python",
   "pygments_lexer": "ipython3",
   "version": "3.9.7"
  }
 },
 "nbformat": 4,
 "nbformat_minor": 5
}

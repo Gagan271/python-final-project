{
 "cells": [
  {
   "cell_type": "code",
   "execution_count": null,
   "id": "06f8aa25-57c9-49a6-bd68-c6a2755bb127",
   "metadata": {},
   "outputs": [
    {
     "name": "stderr",
     "output_type": "stream",
     "text": [
      " * Running on http://localhost:9000/ (Press CTRL+C to quit)\n",
      "127.0.0.1 - - [30/Nov/2021 12:01:23] \"GET / HTTP/1.1\" 404 -\n",
      "127.0.0.1 - - [30/Nov/2021 12:01:29] \"GET /details HTTP/1.1\" 200 -\n"
     ]
    }
   ],
   "source": [
    "from werkzeug.wrappers import Request, Response\n",
    "from flask import Flask, jsonify, request\n",
    "from details import getAllproducts\n",
    "app = Flask(__name__)\n",
    "@app.route('/details', methods = ['GET', 'POST'])\n",
    "def home():\n",
    "    if(request.method == 'GET'):\n",
    "        return getAllproducts()\n",
    "if __name__ == '__main__':\n",
    "    from werkzeug.serving import run_simple\n",
    "    run_simple('localhost', 9000, app)"
   ]
  },
  {
   "cell_type": "code",
   "execution_count": null,
   "id": "a87e3908-27f2-42bf-97b6-7c70b2b457b9",
   "metadata": {},
   "outputs": [],
   "source": []
  },
  {
   "cell_type": "code",
   "execution_count": null,
   "id": "5dc93d9c-d574-488b-9771-3586fda4f6d3",
   "metadata": {},
   "outputs": [],
   "source": []
  }
 ],
 "metadata": {
  "kernelspec": {
   "display_name": "Python 3 (ipykernel)",
   "language": "python",
   "name": "python3"
  },
  "language_info": {
   "codemirror_mode": {
    "name": "ipython",
    "version": 3
   },
   "file_extension": ".py",
   "mimetype": "text/x-python",
   "name": "python",
   "nbconvert_exporter": "python",
   "pygments_lexer": "ipython3",
   "version": "3.9.7"
  }
 },
 "nbformat": 4,
 "nbformat_minor": 5
}

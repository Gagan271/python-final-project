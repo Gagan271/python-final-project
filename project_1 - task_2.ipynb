{
 "cells": [
  {
   "cell_type": "code",
   "execution_count": 1,
   "id": "b95bf3b9-ae6e-4c45-95f4-333316389c9b",
   "metadata": {},
   "outputs": [
    {
     "name": "stdout",
     "output_type": "stream",
     "text": [
      "student Data base is created\n"
     ]
    }
   ],
   "source": [
    "import mysql.connector as SQLC\n",
    "# Establishing connection with the SQL\n",
    " \n",
    "DataBase = SQLC.connect(\n",
    "  host =\"localhost\",\n",
    "  user =\"root\",\n",
    "  password =\"Gagan@1234\"\n",
    ")\n",
    "# Cursor to the database\n",
    "Cursor = DataBase.cursor()\n",
    " \n",
    "Cursor.execute(\"CREATE DATABASE student\")\n",
    "print(\"student Data base is created\")"
   ]
  },
  {
   "cell_type": "code",
   "execution_count": 1,
   "id": "e91e3e83-2ef0-43fb-9f27-8d971555e46f",
   "metadata": {},
   "outputs": [],
   "source": [
    "import mysql.connector\n",
    "\n",
    "dataBase = mysql.connector.connect(\n",
    "                    host = \"localhost\",\n",
    "                    user = \"root\",\n",
    "                    passwd = \"Gagan@1234\",\n",
    "                    database = \"student\" )\n",
    "\n",
    "cursorObject = dataBase.cursor()\n",
    "\n",
    "# creating table\n",
    "studentRecord = \"\"\"CREATE TABLE DETAILS (\n",
    "                NAME VARCHAR(20) NOT NULL,\n",
    "                BRANCH VARCHAR(50),\n",
    "                ROLL INT NOT NULL,\n",
    "                SECTION VARCHAR(5),\n",
    "                AGE INT\n",
    "                )\"\"\"\n",
    "\n",
    "# table created\n",
    "cursorObject.execute(studentRecord)\n",
    "\n",
    "# disconnecting from server\n",
    "dataBase.close()\n"
   ]
  },
  {
   "cell_type": "code",
   "execution_count": 1,
   "id": "b29335d0-2c97-42c4-beb3-3a302836e606",
   "metadata": {},
   "outputs": [],
   "source": [
    "import mysql.connector\n",
    "\n",
    "dataBase = mysql.connector.connect(\n",
    "host =\"localhost\",\n",
    "user =\"root\",\n",
    "passwd =\"Gagan@1234\",\n",
    "database = \"student\"\n",
    ")\n",
    "\n",
    "cursorObject = dataBase.cursor()\n",
    "\n",
    "sql = \"INSERT INTO DETAILS (NAME, BRANCH, ROLL, SECTION, AGE)\\\n",
    "VALUES (%s, %s, %s, %s, %s)\"\n",
    "val = [(\"Nikhil\", \"pdc\", \"01\", \"A\", \"22\"),\n",
    "\t(\"abc\", \"ds\", \"10\", \"A\", \"23\"),\n",
    "\t(\"john\", \"fsd\", \"15\", \"B\", \"22\"),\n",
    "\t(\"xyz\", \"ml\", \"20\", \"A\", \"25\"),\n",
    "\t(\"aaa\", \"ae\", \"12\", \"B\", \"23\"),]\n",
    "\n",
    "cursorObject.executemany(sql, val)\n",
    "dataBase.commit()\n",
    "\n",
    "# disconnecting from server\n",
    "dataBase.close()\n"
   ]
  },
  {
   "cell_type": "code",
   "execution_count": null,
   "id": "da2c9cfa-dafd-4017-b7c8-f1c50534b803",
   "metadata": {},
   "outputs": [],
   "source": []
  }
 ],
 "metadata": {
  "kernelspec": {
   "display_name": "Python 3 (ipykernel)",
   "language": "python",
   "name": "python3"
  },
  "language_info": {
   "codemirror_mode": {
    "name": "ipython",
    "version": 3
   },
   "file_extension": ".py",
   "mimetype": "text/x-python",
   "name": "python",
   "nbconvert_exporter": "python",
   "pygments_lexer": "ipython3",
   "version": "3.9.7"
  }
 },
 "nbformat": 4,
 "nbformat_minor": 5
}

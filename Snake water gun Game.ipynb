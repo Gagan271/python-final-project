{
 "cells": [
  {
   "cell_type": "code",
   "execution_count": 1,
   "id": "489aa99e",
   "metadata": {},
   "outputs": [
    {
     "name": "stdout",
     "output_type": "stream",
     "text": [
      "comp Turn: Snake(s) Water(w), Gun(g)?\n",
      "Your Turn: Snake(s) Water(w), Gun(g)?s\n",
      "You Loose\n"
     ]
    }
   ],
   "source": [
    "import random\n",
    "\n",
    "def gameWin(comp, you):\n",
    "    if comp == you:\n",
    "        return None\n",
    "    elif comp == 's':\n",
    "        if you == 'w':\n",
    "            return False\n",
    "        elif you == 'g':\n",
    "            return True\n",
    "        \n",
    "    elif comp == 'w':\n",
    "        if you == 'g':\n",
    "            return False\n",
    "        elif you == 's':\n",
    "            return True\n",
    "        \n",
    "    elif comp == 'g':\n",
    "        if you == 's':\n",
    "            return False\n",
    "        elif you == 'w':\n",
    "            return True\n",
    "        \n",
    "print(\"comp Turn: Snake(s) Water(w), Gun(g)?\")\n",
    "randNo = random.randint(1, 3)\n",
    "if randNo == 1:\n",
    "    comp = 's'\n",
    "elif randNo == 2:\n",
    "    comp = 'w'\n",
    "elif randNo == 3:\n",
    "    comp = 'g'\n",
    "    \n",
    "you = input(\"Your Turn: Snake(s) Water(w), Gun(g)?\")\n",
    "a = gameWin(comp, you)\n",
    "if a == None:\n",
    "    print(\"this game is a tie\")\n",
    "elif a:\n",
    "    print(\"You Win\")\n",
    "else:\n",
    "    print(\"You Loose\")"
   ]
  },
  {
   "cell_type": "code",
   "execution_count": null,
   "id": "80be5380",
   "metadata": {},
   "outputs": [],
   "source": []
  }
 ],
 "metadata": {
  "kernelspec": {
   "display_name": "Python 3 (ipykernel)",
   "language": "python",
   "name": "python3"
  },
  "language_info": {
   "codemirror_mode": {
    "name": "ipython",
    "version": 3
   },
   "file_extension": ".py",
   "mimetype": "text/x-python",
   "name": "python",
   "nbconvert_exporter": "python",
   "pygments_lexer": "ipython3",
   "version": "3.9.7"
  }
 },
 "nbformat": 4,
 "nbformat_minor": 5
}

{
 "cells": [
  {
   "cell_type": "code",
   "execution_count": 1,
   "id": "05d43a4f",
   "metadata": {},
   "outputs": [],
   "source": [
    "# Python code to create a file\n",
    "file = open ('details.txt','w')\n",
    "def personal_details():\n",
    "    name, age, gender = \"john\", 28 , \"male\"\n",
    "    address = \"Bangalore, Karnataka, India\"\n",
    "    file.write(\"Name: {}\\nAge: {}\\nGender: {}\\nAddress: {}\".format(name, age, gender, address))\n",
    "    file.close()\n",
    "\n",
    "personal_details()"
   ]
  },
  {
   "cell_type": "code",
   "execution_count": 1,
   "id": "e995b4c6",
   "metadata": {},
   "outputs": [
    {
     "data": {
      "text/plain": [
       "(221, b'2.0.0 closing connection q30sm5656350pgl.46 - gsmtp')"
      ]
     },
     "execution_count": 1,
     "metadata": {},
     "output_type": "execute_result"
    }
   ],
   "source": [
    "import smtplib\n",
    "from email.message import EmailMessage\n",
    "\n",
    "msg=EmailMessage()\n",
    "msg['Subject']='person details'\n",
    "msg['From']='user1'\n",
    "msg['To']='testmail15259@gmail.com'\n",
    "\n",
    "with open ('details.txt') as myfile:\n",
    "    data=myfile.read()\n",
    "    msg.set_content(data)\n",
    "\n",
    "server=smtplib.SMTP_SSL('smtp.gmail.com', 465)\n",
    "server.login(\"testmail15259@gmail.com\",\"Gagan@1234\")\n",
    "server.send_message(msg)\n",
    "server.quit()\n"
   ]
  },
  {
   "cell_type": "code",
   "execution_count": null,
   "id": "2d459bb9",
   "metadata": {},
   "outputs": [],
   "source": []
  }
 ],
 "metadata": {
  "kernelspec": {
   "display_name": "Python 3 (ipykernel)",
   "language": "python",
   "name": "python3"
  },
  "language_info": {
   "codemirror_mode": {
    "name": "ipython",
    "version": 3
   },
   "file_extension": ".py",
   "mimetype": "text/x-python",
   "name": "python",
   "nbconvert_exporter": "python",
   "pygments_lexer": "ipython3",
   "version": "3.9.7"
  }
 },
 "nbformat": 4,
 "nbformat_minor": 5
}

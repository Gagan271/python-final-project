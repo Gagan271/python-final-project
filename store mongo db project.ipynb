{
 "cells": [
  {
   "cell_type": "code",
   "execution_count": 1,
   "id": "bd88c2a4",
   "metadata": {},
   "outputs": [],
   "source": [
    "import pymongo\n",
    "\n",
    "client=pymongo.MongoClient('mongodb://127.0.0.1:27017/')\n",
    "\n",
    "mydb=client['store']\n",
    "productinfo=mydb.products"
   ]
  },
  {
   "cell_type": "code",
   "execution_count": 4,
   "id": "17ff328d",
   "metadata": {},
   "outputs": [
    {
     "data": {
      "text/plain": [
       "<pymongo.results.InsertManyResult at 0x197ad51cbc0>"
      ]
     },
     "execution_count": 4,
     "metadata": {},
     "output_type": "execute_result"
    }
   ],
   "source": [
    "records=[{\n",
    "        'productname':'soap',\n",
    "        'brand':'lux',\n",
    "        'price':'35Rs',\n",
    "        'date of manufacture':'10-06-2020'\n",
    "    \n",
    "        },\n",
    "         {\n",
    "        'productname':'soap',\n",
    "        'brand':'Rexona',\n",
    "        'price':'25Rs',\n",
    "        'date of manufacture':'11-06-2020'\n",
    "         \n",
    "         },\n",
    "         {\n",
    "        'productname':'soap',\n",
    "        'brand':'medimix',\n",
    "        'price':'30Rs',\n",
    "        'date of manufacture':'12-05-2020'\n",
    "    \n",
    "        },\n",
    "         {\n",
    "        'productname':'soap',\n",
    "        'brand':'Dettol',\n",
    "        'price':'40Rs',\n",
    "        'date of manufacture':'10-05-2020'\n",
    "         \n",
    "         },\n",
    "          {\n",
    "         'productname':'soap',\n",
    "        'brand':'Lifebuoy',\n",
    "        'price':'40Rs',\n",
    "        'date of manufacture':'05-05-2020'\n",
    "    \n",
    "        },\n",
    "         {\n",
    "        'productname':'soap',\n",
    "        'brand':'Dove',\n",
    "        'price':'45Rs',\n",
    "        'date of manufacture':'11-06-2020'\n",
    "        \n",
    "         },\n",
    "          {\n",
    "         'productname':'soap',\n",
    "        'brand':'Pears',\n",
    "        'price':'35Rs',\n",
    "        'date of manufacture':'05-06-2020'\n",
    "    \n",
    "        },\n",
    "         {\n",
    "        'productname':'soap',\n",
    "        'brand':'himayala',\n",
    "        'price':'45Rs',\n",
    "        'date of manufacture':'06-06-2020'\n",
    "        \n",
    "         }]\n",
    "productinfo.insert_many(records)"
   ]
  },
  {
   "cell_type": "code",
   "execution_count": 5,
   "id": "2e0e6cef",
   "metadata": {},
   "outputs": [],
   "source": [
    "mydb=client['store']\n",
    "productinfo=mydb.shampoo"
   ]
  },
  {
   "cell_type": "code",
   "execution_count": 6,
   "id": "7ef93863",
   "metadata": {},
   "outputs": [
    {
     "data": {
      "text/plain": [
       "<pymongo.results.InsertManyResult at 0x197ad900500>"
      ]
     },
     "execution_count": 6,
     "metadata": {},
     "output_type": "execute_result"
    }
   ],
   "source": [
    "records=[{\n",
    "        'productname':'shampoo',\n",
    "        'brand':'dove',\n",
    "        'category':'anti dranduff',\n",
    "        'price':'3rs',\n",
    "        'date of manufacture':'01-01-2020'\n",
    "    \n",
    "        },\n",
    "         {\n",
    "        'productname':'shampoo',\n",
    "        'brand':'Head and sholders',\n",
    "        'category':'Hair fall control',\n",
    "        'price':'2Rs',\n",
    "        'date of manufacture':'05-01-2020'\n",
    "         \n",
    "         },\n",
    "         {\n",
    "        'productname':'Shampoo',\n",
    "        'brand':'TREshemme',\n",
    "        'category':'anti dranduff',\n",
    "        'price':'5Rs',\n",
    "        'date of manufacture':'20-01-2020'\n",
    "    \n",
    "        },\n",
    "         {\n",
    "        'productname':'shampoo',\n",
    "        'brand':'clinic plus',\n",
    "        'category':'shiny hair',\n",
    "        'price':'1Rs',\n",
    "        'date of manufacture':'15-01-2020'\n",
    "         \n",
    "         },\n",
    "          {\n",
    "         'productname':'shampoo',\n",
    "        'brand':'Sunsilk',\n",
    "        'category':'anti dranduff',     \n",
    "        'price':'3Rs',\n",
    "        'date of manufacture':'02-02-2020'\n",
    "    \n",
    "        },\n",
    "         {\n",
    "        'productname':'shampoo',\n",
    "        'brand':'Pantene',\n",
    "        'category':'Hair fall control',\n",
    "        'price':'3Rs',\n",
    "        'date of manufacture':'10-02-2020'\n",
    "        \n",
    "         },\n",
    "          {\n",
    "         'productname':'shampoo',\n",
    "        'brand':'Himalaya',\n",
    "        'category':'anti dranduff',\n",
    "        'price':'3Rs',\n",
    "        'date of manufacture':'15-02-2020'\n",
    "    \n",
    "        },\n",
    "         {\n",
    "        'productname':'Shampoo',\n",
    "        'brand':'Garnier',\n",
    "        'category':'vitaminE',\n",
    "        'price':'2Rs',\n",
    "        'date of manufacture':'20-02-2020'\n",
    "        \n",
    "         },\n",
    "          {\n",
    "        'productname':'shampoo',\n",
    "        'brand':'patanjali kesh kanti',\n",
    "        'category':'anti dranduff',\n",
    "        'price':'3rs',\n",
    "        'date of manufacture':'03-03-2020'\n",
    "    \n",
    "        },\n",
    "         {\n",
    "        'productname':'shampoo',\n",
    "        'brand':'loreal',\n",
    "        'category':'Hair fall control',\n",
    "        'price':'2Rs',\n",
    "        'date of manufacture':'10-03-2020'\n",
    "         \n",
    "         },\n",
    "          {\n",
    "        'productname':'Shampoo',\n",
    "        'brand':'Fiama',\n",
    "        'category':'vitaminE',\n",
    "        'price':'2Rs',\n",
    "        'date of manufacture':'15-03-2020'\n",
    "              \n",
    "          }]    \n",
    "productinfo.insert_many(records)"
   ]
  },
  {
   "cell_type": "code",
   "execution_count": 8,
   "id": "dc2ca798",
   "metadata": {},
   "outputs": [
    {
     "data": {
      "text/plain": [
       "{'_id': ObjectId('61a0b060ed1ab9f81adc66b5'),\n",
       " 'productname': 'shampoo',\n",
       " 'brand': 'dove',\n",
       " 'category': 'anti dranduff',\n",
       " 'price': '3rs',\n",
       " 'date of manufacture': '01-01-2020'}"
      ]
     },
     "execution_count": 8,
     "metadata": {},
     "output_type": "execute_result"
    }
   ],
   "source": [
    "productinfo.find_one()"
   ]
  },
  {
   "cell_type": "code",
   "execution_count": 10,
   "id": "ba695e40",
   "metadata": {},
   "outputs": [
    {
     "name": "stdout",
     "output_type": "stream",
     "text": [
      "{'_id': ObjectId('61a0b060ed1ab9f81adc66b5'), 'productname': 'shampoo', 'brand': 'dove', 'category': 'anti dranduff', 'price': '3rs', 'date of manufacture': '01-01-2020'}\n",
      "{'_id': ObjectId('61a0b060ed1ab9f81adc66b6'), 'productname': 'shampoo', 'brand': 'Head and sholders', 'category': 'Hair fall control', 'price': '2Rs', 'date of manufacture': '05-01-2020'}\n",
      "{'_id': ObjectId('61a0b060ed1ab9f81adc66b7'), 'productname': 'Shampoo', 'brand': 'TREshemme', 'category': 'anti dranduff', 'price': '5Rs', 'date of manufacture': '20-01-2020'}\n",
      "{'_id': ObjectId('61a0b060ed1ab9f81adc66b8'), 'productname': 'shampoo', 'brand': 'clinic plus', 'category': 'shiny hair', 'price': '1Rs', 'date of manufacture': '15-01-2020'}\n",
      "{'_id': ObjectId('61a0b060ed1ab9f81adc66b9'), 'productname': 'shampoo', 'brand': 'Sunsilk', 'category': 'anti dranduff', 'price': '3Rs', 'date of manufacture': '02-02-2020'}\n",
      "{'_id': ObjectId('61a0b060ed1ab9f81adc66ba'), 'productname': 'shampoo', 'brand': 'Pantene', 'category': 'Hair fall control', 'price': '3Rs', 'date of manufacture': '10-02-2020'}\n",
      "{'_id': ObjectId('61a0b060ed1ab9f81adc66bb'), 'productname': 'shampoo', 'brand': 'Himalaya', 'category': 'anti dranduff', 'price': '3Rs', 'date of manufacture': '15-02-2020'}\n",
      "{'_id': ObjectId('61a0b060ed1ab9f81adc66bc'), 'productname': 'Shampoo', 'brand': 'Garnier', 'category': 'vitaminE', 'price': '2Rs', 'date of manufacture': '20-02-2020'}\n",
      "{'_id': ObjectId('61a0b060ed1ab9f81adc66bd'), 'productname': 'shampoo', 'brand': 'patanjali kesh kanti', 'category': 'anti dranduff', 'price': '3rs', 'date of manufacture': '03-03-2020'}\n",
      "{'_id': ObjectId('61a0b060ed1ab9f81adc66be'), 'productname': 'shampoo', 'brand': 'loreal', 'category': 'Hair fall control', 'price': '2Rs', 'date of manufacture': '10-03-2020'}\n",
      "{'_id': ObjectId('61a0b060ed1ab9f81adc66bf'), 'productname': 'Shampoo', 'brand': 'Fiama', 'category': 'vitaminE', 'price': '2Rs', 'date of manufacture': '15-03-2020'}\n"
     ]
    }
   ],
   "source": [
    "for record in productinfo.find({}):\n",
    "    print(record)"
   ]
  },
  {
   "cell_type": "code",
   "execution_count": 11,
   "id": "381e263a",
   "metadata": {},
   "outputs": [
    {
     "name": "stdout",
     "output_type": "stream",
     "text": [
      "{'_id': ObjectId('61a0b060ed1ab9f81adc66b5'), 'productname': 'shampoo', 'brand': 'dove', 'category': 'anti dranduff', 'price': '3rs', 'date of manufacture': '01-01-2020'}\n"
     ]
    }
   ],
   "source": [
    "for record in productinfo.find({'brand':'dove'}):\n",
    "    print(record)"
   ]
  },
  {
   "cell_type": "code",
   "execution_count": 13,
   "id": "6fdc40b2",
   "metadata": {},
   "outputs": [
    {
     "name": "stdout",
     "output_type": "stream",
     "text": [
      "{'_id': ObjectId('61a0b060ed1ab9f81adc66b5'), 'productname': 'shampoo', 'brand': 'dove', 'category': 'anti dranduff', 'price': '3rs', 'date of manufacture': '01-01-2020'}\n",
      "{'_id': ObjectId('61a0b060ed1ab9f81adc66b7'), 'productname': 'Shampoo', 'brand': 'TREshemme', 'category': 'anti dranduff', 'price': '5Rs', 'date of manufacture': '20-01-2020'}\n",
      "{'_id': ObjectId('61a0b060ed1ab9f81adc66b9'), 'productname': 'shampoo', 'brand': 'Sunsilk', 'category': 'anti dranduff', 'price': '3Rs', 'date of manufacture': '02-02-2020'}\n",
      "{'_id': ObjectId('61a0b060ed1ab9f81adc66bb'), 'productname': 'shampoo', 'brand': 'Himalaya', 'category': 'anti dranduff', 'price': '3Rs', 'date of manufacture': '15-02-2020'}\n",
      "{'_id': ObjectId('61a0b060ed1ab9f81adc66bd'), 'productname': 'shampoo', 'brand': 'patanjali kesh kanti', 'category': 'anti dranduff', 'price': '3rs', 'date of manufacture': '03-03-2020'}\n"
     ]
    }
   ],
   "source": [
    "for record in productinfo.find({'category':{'$in':['anti dranduff']}}):\n",
    "    print(record)"
   ]
  },
  {
   "cell_type": "code",
   "execution_count": 38,
   "id": "5f9b74fc",
   "metadata": {},
   "outputs": [
    {
     "name": "stdout",
     "output_type": "stream",
     "text": [
      "{'_id': ObjectId('61a0b060ed1ab9f81adc66b5'), 'productname': 'shampoo', 'brand': 'dove', 'category': 'anti dranduff', 'price': '10Rs', 'date of manufacture': '01-01-2020', 'conditioner': 'avalibale'}\n",
      "{'_id': ObjectId('61a0b060ed1ab9f81adc66b6'), 'productname': 'shampoo', 'brand': 'Head and sholders', 'category': 'Hair fall control', 'price': '2Rs', 'date of manufacture': '05-01-2020'}\n",
      "{'_id': ObjectId('61a0b060ed1ab9f81adc66b7'), 'productname': 'Shampoo', 'brand': 'TREshemme', 'category': 'anti dranduff', 'price': '10Rs', 'date of manufacture': '20-01-2020', 'conditioner': 'avalibale'}\n",
      "{'_id': ObjectId('61a0b060ed1ab9f81adc66b8'), 'productname': 'shampoo', 'brand': 'clinic plus', 'category': 'shiny hair', 'price': '1Rs', 'date of manufacture': '15-01-2020'}\n",
      "{'_id': ObjectId('61a0b060ed1ab9f81adc66b9'), 'productname': 'shampoo', 'brand': 'Sunsilk', 'category': 'anti dranduff', 'price': '10Rs', 'date of manufacture': '02-02-2020', 'conditioner': 'avalibale'}\n",
      "{'_id': ObjectId('61a0b060ed1ab9f81adc66ba'), 'productname': 'shampoo', 'brand': 'Pantene', 'category': 'Hair fall control', 'price': '3Rs', 'date of manufacture': '10-02-2020'}\n",
      "{'_id': ObjectId('61a0b060ed1ab9f81adc66bb'), 'productname': 'shampoo', 'brand': 'Himalaya', 'category': 'anti dranduff', 'price': '10Rs', 'date of manufacture': '15-02-2020', 'conditioner': 'avalibale'}\n",
      "{'_id': ObjectId('61a0b060ed1ab9f81adc66bc'), 'productname': 'Shampoo', 'brand': 'Garnier', 'category': 'vitaminE', 'price': '2Rs', 'date of manufacture': '20-02-2020'}\n",
      "{'_id': ObjectId('61a0b060ed1ab9f81adc66bd'), 'productname': 'shampoo', 'brand': 'patanjali kesh kanti', 'category': 'anti dranduff', 'price': '10Rs', 'date of manufacture': '03-03-2020', 'conditioner': 'avalibale'}\n",
      "{'_id': ObjectId('61a0b060ed1ab9f81adc66be'), 'productname': 'shampoo', 'brand': 'loreal', 'category': 'Hair fall control', 'price': '2Rs', 'date of manufacture': '10-03-2020'}\n",
      "{'_id': ObjectId('61a0b060ed1ab9f81adc66bf'), 'productname': 'Shampoo', 'brand': 'Fiama', 'category': 'vitaminE', 'price': '2Rs', 'date of manufacture': '15-03-2020'}\n"
     ]
    }
   ],
   "source": [
    "for record in productinfo.find():\n",
    "    print(record)"
   ]
  },
  {
   "cell_type": "code",
   "execution_count": null,
   "id": "45f47d2d",
   "metadata": {},
   "outputs": [],
   "source": []
  }
 ],
 "metadata": {
  "kernelspec": {
   "display_name": "Python 3 (ipykernel)",
   "language": "python",
   "name": "python3"
  },
  "language_info": {
   "codemirror_mode": {
    "name": "ipython",
    "version": 3
   },
   "file_extension": ".py",
   "mimetype": "text/x-python",
   "name": "python",
   "nbconvert_exporter": "python",
   "pygments_lexer": "ipython3",
   "version": "3.9.7"
  }
 },
 "nbformat": 4,
 "nbformat_minor": 5
}
